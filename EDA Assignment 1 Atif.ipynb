{
 "cells": [
  {
   "cell_type": "markdown",
   "id": "95127765-cc1e-4f3c-b400-842067dc428a",
   "metadata": {},
   "source": [
    "Q.1) Import essential libraries for data analysis."
   ]
  },
  {
   "cell_type": "code",
   "execution_count": 6,
   "id": "3bb22226-e4bf-4a7f-99b0-ef1c75e4839f",
   "metadata": {},
   "outputs": [],
   "source": [
    "import pandas as pd\n",
    "import numpy as np\n",
    "import seaborn as sns\n",
    "import matplotlib.pyplot as plt"
   ]
  },
  {
   "cell_type": "markdown",
   "id": "1ab0f14c-a87a-4964-8a2c-c35020f5feff",
   "metadata": {},
   "source": [
    "Q.2) Load the Airbnb dataset from a CSV file into a pandas DataFrame."
   ]
  },
  {
   "cell_type": "code",
   "execution_count": 7,
   "id": "4a42cbb1-4648-4f62-b2d1-551be4eb2ca4",
   "metadata": {},
   "outputs": [],
   "source": [
    "DF = pd.read_csv('Airbnb.csv')"
   ]
  },
  {
   "cell_type": "markdown",
   "id": "659a12a9-d627-4f02-a02b-451d9dce3b8b",
   "metadata": {},
   "source": [
    "Q.3) Print the first 20 rows of the dataset to get an initial understanding of its structure and content."
   ]
  },
  {
   "cell_type": "code",
   "execution_count": 8,
   "id": "735e97fc-29f4-4045-8160-e1b41c367031",
   "metadata": {},
   "outputs": [
    {
     "data": {
      "text/html": [
       "<div>\n",
       "<style scoped>\n",
       "    .dataframe tbody tr th:only-of-type {\n",
       "        vertical-align: middle;\n",
       "    }\n",
       "\n",
       "    .dataframe tbody tr th {\n",
       "        vertical-align: top;\n",
       "    }\n",
       "\n",
       "    .dataframe thead th {\n",
       "        text-align: right;\n",
       "    }\n",
       "</style>\n",
       "<table border=\"1\" class=\"dataframe\">\n",
       "  <thead>\n",
       "    <tr style=\"text-align: right;\">\n",
       "      <th></th>\n",
       "      <th>id</th>\n",
       "      <th>name</th>\n",
       "      <th>host_id</th>\n",
       "      <th>host_name</th>\n",
       "      <th>neighbourhood group</th>\n",
       "      <th>neighbourhood</th>\n",
       "      <th>latitude</th>\n",
       "      <th>longitude</th>\n",
       "      <th>room type</th>\n",
       "      <th>price</th>\n",
       "      <th>minimum nights</th>\n",
       "      <th>number_of_reviews</th>\n",
       "      <th>last review</th>\n",
       "      <th>reviews_per_month</th>\n",
       "      <th>calculated_host_listings_count</th>\n",
       "      <th>availability_365</th>\n",
       "    </tr>\n",
       "  </thead>\n",
       "  <tbody>\n",
       "    <tr>\n",
       "      <th>0</th>\n",
       "      <td>2539</td>\n",
       "      <td>Clean &amp; quiet apt home by the park</td>\n",
       "      <td>2787</td>\n",
       "      <td>John</td>\n",
       "      <td>Brooklyn</td>\n",
       "      <td>Kensington</td>\n",
       "      <td>40.64749</td>\n",
       "      <td>-73.97237</td>\n",
       "      <td>Private room</td>\n",
       "      <td>149.0</td>\n",
       "      <td>1.0</td>\n",
       "      <td>9</td>\n",
       "      <td>10/19/2018</td>\n",
       "      <td>0.21</td>\n",
       "      <td>6</td>\n",
       "      <td>365</td>\n",
       "    </tr>\n",
       "    <tr>\n",
       "      <th>1</th>\n",
       "      <td>2595</td>\n",
       "      <td>Skylit Midtown Castle</td>\n",
       "      <td>2845</td>\n",
       "      <td>Jennifer</td>\n",
       "      <td>Manhattan</td>\n",
       "      <td>Midtown</td>\n",
       "      <td>40.75362</td>\n",
       "      <td>-73.98377</td>\n",
       "      <td>Entire home/apt</td>\n",
       "      <td>225.0</td>\n",
       "      <td>1.0</td>\n",
       "      <td>45</td>\n",
       "      <td>5/21/2019</td>\n",
       "      <td>0.38</td>\n",
       "      <td>2</td>\n",
       "      <td>355</td>\n",
       "    </tr>\n",
       "    <tr>\n",
       "      <th>2</th>\n",
       "      <td>3647</td>\n",
       "      <td>THE VILLAGE OF HARLEM....NEW YORK !</td>\n",
       "      <td>4632</td>\n",
       "      <td>Elisabeth</td>\n",
       "      <td>Manhattan</td>\n",
       "      <td>Harlem</td>\n",
       "      <td>40.80902</td>\n",
       "      <td>-73.94190</td>\n",
       "      <td>Private room</td>\n",
       "      <td>150.0</td>\n",
       "      <td>3.0</td>\n",
       "      <td>0</td>\n",
       "      <td>NaN</td>\n",
       "      <td>NaN</td>\n",
       "      <td>1</td>\n",
       "      <td>365</td>\n",
       "    </tr>\n",
       "    <tr>\n",
       "      <th>3</th>\n",
       "      <td>3831</td>\n",
       "      <td>Cozy Entire Floor of Brownstone</td>\n",
       "      <td>4869</td>\n",
       "      <td>LisaRoxanne</td>\n",
       "      <td>Brooklyn</td>\n",
       "      <td>Clinton Hill</td>\n",
       "      <td>40.68514</td>\n",
       "      <td>-73.95976</td>\n",
       "      <td>Entire home/apt</td>\n",
       "      <td>89.0</td>\n",
       "      <td>1.0</td>\n",
       "      <td>270</td>\n",
       "      <td>7/5/2019</td>\n",
       "      <td>4.64</td>\n",
       "      <td>1</td>\n",
       "      <td>194</td>\n",
       "    </tr>\n",
       "    <tr>\n",
       "      <th>4</th>\n",
       "      <td>5022</td>\n",
       "      <td>Entire Apt: Spacious Studio/Loft by central park</td>\n",
       "      <td>7192</td>\n",
       "      <td>Laura</td>\n",
       "      <td>Manhattan</td>\n",
       "      <td>East Harlem</td>\n",
       "      <td>40.79851</td>\n",
       "      <td>-73.94399</td>\n",
       "      <td>Entire home/apt</td>\n",
       "      <td>80.0</td>\n",
       "      <td>10.0</td>\n",
       "      <td>9</td>\n",
       "      <td>11/19/2018</td>\n",
       "      <td>0.10</td>\n",
       "      <td>1</td>\n",
       "      <td>0</td>\n",
       "    </tr>\n",
       "    <tr>\n",
       "      <th>5</th>\n",
       "      <td>5099</td>\n",
       "      <td>Large Cozy 1 BR Apartment In Midtown East</td>\n",
       "      <td>7322</td>\n",
       "      <td>Chris</td>\n",
       "      <td>Manhattan</td>\n",
       "      <td>Murray Hill</td>\n",
       "      <td>40.74767</td>\n",
       "      <td>-73.97500</td>\n",
       "      <td>Entire home/apt</td>\n",
       "      <td>200.0</td>\n",
       "      <td>3.0</td>\n",
       "      <td>74</td>\n",
       "      <td>6/22/2019</td>\n",
       "      <td>0.59</td>\n",
       "      <td>1</td>\n",
       "      <td>129</td>\n",
       "    </tr>\n",
       "    <tr>\n",
       "      <th>6</th>\n",
       "      <td>5121</td>\n",
       "      <td>BlissArtsSpace!</td>\n",
       "      <td>7356</td>\n",
       "      <td>Garon</td>\n",
       "      <td>Brooklyn</td>\n",
       "      <td>Bedford-Stuyvesant</td>\n",
       "      <td>40.68688</td>\n",
       "      <td>-73.95596</td>\n",
       "      <td>Private room</td>\n",
       "      <td>60.0</td>\n",
       "      <td>45.0</td>\n",
       "      <td>49</td>\n",
       "      <td>10/5/2017</td>\n",
       "      <td>0.40</td>\n",
       "      <td>1</td>\n",
       "      <td>0</td>\n",
       "    </tr>\n",
       "    <tr>\n",
       "      <th>7</th>\n",
       "      <td>5178</td>\n",
       "      <td>Large Furnished Room Near B'way</td>\n",
       "      <td>8967</td>\n",
       "      <td>Shunichi</td>\n",
       "      <td>Manhattan</td>\n",
       "      <td>Hell's Kitchen</td>\n",
       "      <td>40.76489</td>\n",
       "      <td>-73.98493</td>\n",
       "      <td>Private room</td>\n",
       "      <td>79.0</td>\n",
       "      <td>2.0</td>\n",
       "      <td>430</td>\n",
       "      <td>6/24/2019</td>\n",
       "      <td>3.47</td>\n",
       "      <td>1</td>\n",
       "      <td>220</td>\n",
       "    </tr>\n",
       "    <tr>\n",
       "      <th>8</th>\n",
       "      <td>5203</td>\n",
       "      <td>Cozy Clean Guest Room - Family Apt</td>\n",
       "      <td>7490</td>\n",
       "      <td>MaryEllen</td>\n",
       "      <td>Manhattan</td>\n",
       "      <td>Upper West Side</td>\n",
       "      <td>40.80178</td>\n",
       "      <td>-73.96723</td>\n",
       "      <td>Private room</td>\n",
       "      <td>79.0</td>\n",
       "      <td>2.0</td>\n",
       "      <td>118</td>\n",
       "      <td>7/21/2017</td>\n",
       "      <td>0.99</td>\n",
       "      <td>1</td>\n",
       "      <td>0</td>\n",
       "    </tr>\n",
       "    <tr>\n",
       "      <th>9</th>\n",
       "      <td>5238</td>\n",
       "      <td>Cute &amp; Cozy Lower East Side 1 bdrm</td>\n",
       "      <td>7549</td>\n",
       "      <td>Ben</td>\n",
       "      <td>Manhattan</td>\n",
       "      <td>Chinatown</td>\n",
       "      <td>40.71344</td>\n",
       "      <td>-73.99037</td>\n",
       "      <td>Entire home/apt</td>\n",
       "      <td>150.0</td>\n",
       "      <td>1.0</td>\n",
       "      <td>160</td>\n",
       "      <td>6/9/2019</td>\n",
       "      <td>1.33</td>\n",
       "      <td>4</td>\n",
       "      <td>188</td>\n",
       "    </tr>\n",
       "    <tr>\n",
       "      <th>10</th>\n",
       "      <td>5295</td>\n",
       "      <td>Beautiful 1br on Upper West Side</td>\n",
       "      <td>7702</td>\n",
       "      <td>Lena</td>\n",
       "      <td>Manhattan</td>\n",
       "      <td>Upper West Side</td>\n",
       "      <td>40.80316</td>\n",
       "      <td>-73.96545</td>\n",
       "      <td>Entire home/apt</td>\n",
       "      <td>135.0</td>\n",
       "      <td>5.0</td>\n",
       "      <td>53</td>\n",
       "      <td>6/22/2019</td>\n",
       "      <td>0.43</td>\n",
       "      <td>1</td>\n",
       "      <td>6</td>\n",
       "    </tr>\n",
       "    <tr>\n",
       "      <th>11</th>\n",
       "      <td>2595</td>\n",
       "      <td>Skylit Midtown Castle</td>\n",
       "      <td>2845</td>\n",
       "      <td>Jennifer</td>\n",
       "      <td>Manhattan</td>\n",
       "      <td>Midtown</td>\n",
       "      <td>40.75362</td>\n",
       "      <td>-73.98377</td>\n",
       "      <td>Entire home/apt</td>\n",
       "      <td>225.0</td>\n",
       "      <td>1.0</td>\n",
       "      <td>45</td>\n",
       "      <td>5/21/2019</td>\n",
       "      <td>0.38</td>\n",
       "      <td>2</td>\n",
       "      <td>355</td>\n",
       "    </tr>\n",
       "    <tr>\n",
       "      <th>12</th>\n",
       "      <td>5121</td>\n",
       "      <td>BlissArtsSpace!</td>\n",
       "      <td>7356</td>\n",
       "      <td>Garon</td>\n",
       "      <td>Brooklyn</td>\n",
       "      <td>Bedford-Stuyvesant</td>\n",
       "      <td>40.68688</td>\n",
       "      <td>-73.95596</td>\n",
       "      <td>Private room</td>\n",
       "      <td>60.0</td>\n",
       "      <td>45.0</td>\n",
       "      <td>49</td>\n",
       "      <td>10/5/2017</td>\n",
       "      <td>0.40</td>\n",
       "      <td>1</td>\n",
       "      <td>0</td>\n",
       "    </tr>\n",
       "    <tr>\n",
       "      <th>13</th>\n",
       "      <td>5295</td>\n",
       "      <td>Beautiful 1br on Upper West Side</td>\n",
       "      <td>7702</td>\n",
       "      <td>Lena</td>\n",
       "      <td>Manhattan</td>\n",
       "      <td>Upper West Side</td>\n",
       "      <td>40.80316</td>\n",
       "      <td>-73.96545</td>\n",
       "      <td>Entire home/apt</td>\n",
       "      <td>135.0</td>\n",
       "      <td>5.0</td>\n",
       "      <td>53</td>\n",
       "      <td>6/22/2019</td>\n",
       "      <td>0.43</td>\n",
       "      <td>1</td>\n",
       "      <td>6</td>\n",
       "    </tr>\n",
       "    <tr>\n",
       "      <th>14</th>\n",
       "      <td>6090</td>\n",
       "      <td>West Village Nest - Superhost</td>\n",
       "      <td>11975</td>\n",
       "      <td>Alina</td>\n",
       "      <td>Manhattan</td>\n",
       "      <td>West Village</td>\n",
       "      <td>40.73530</td>\n",
       "      <td>-74.00525</td>\n",
       "      <td>Entire home/apt</td>\n",
       "      <td>120.0</td>\n",
       "      <td>90.0</td>\n",
       "      <td>27</td>\n",
       "      <td>10/31/2018</td>\n",
       "      <td>0.22</td>\n",
       "      <td>1</td>\n",
       "      <td>0</td>\n",
       "    </tr>\n",
       "    <tr>\n",
       "      <th>15</th>\n",
       "      <td>7097</td>\n",
       "      <td>Perfect for Your Parents + Garden</td>\n",
       "      <td>17571</td>\n",
       "      <td>Jane</td>\n",
       "      <td>Brooklyn</td>\n",
       "      <td>Fort Greene</td>\n",
       "      <td>40.69169</td>\n",
       "      <td>-73.97185</td>\n",
       "      <td>Entire home/apt</td>\n",
       "      <td>215.0</td>\n",
       "      <td>2.0</td>\n",
       "      <td>198</td>\n",
       "      <td>6/28/2019</td>\n",
       "      <td>1.72</td>\n",
       "      <td>1</td>\n",
       "      <td>321</td>\n",
       "    </tr>\n",
       "    <tr>\n",
       "      <th>16</th>\n",
       "      <td>5441</td>\n",
       "      <td>Central Manhattan/near Broadway</td>\n",
       "      <td>7989</td>\n",
       "      <td>Kate</td>\n",
       "      <td>Manhattan</td>\n",
       "      <td>Hell's Kitchen</td>\n",
       "      <td>40.76076</td>\n",
       "      <td>-73.98867</td>\n",
       "      <td>Private room</td>\n",
       "      <td>85.0</td>\n",
       "      <td>2.0</td>\n",
       "      <td>188</td>\n",
       "      <td>6/23/2019</td>\n",
       "      <td>1.50</td>\n",
       "      <td>1</td>\n",
       "      <td>39</td>\n",
       "    </tr>\n",
       "    <tr>\n",
       "      <th>17</th>\n",
       "      <td>5803</td>\n",
       "      <td>Lovely Room 1, Garden, Best Area, Legal rental</td>\n",
       "      <td>9744</td>\n",
       "      <td>Laurie</td>\n",
       "      <td>Brooklyn</td>\n",
       "      <td>South Slope</td>\n",
       "      <td>40.66829</td>\n",
       "      <td>-73.98779</td>\n",
       "      <td>Private room</td>\n",
       "      <td>89.0</td>\n",
       "      <td>4.0</td>\n",
       "      <td>167</td>\n",
       "      <td>6/24/2019</td>\n",
       "      <td>1.34</td>\n",
       "      <td>3</td>\n",
       "      <td>314</td>\n",
       "    </tr>\n",
       "    <tr>\n",
       "      <th>18</th>\n",
       "      <td>6021</td>\n",
       "      <td>Wonderful Guest Bedroom in Manhattan for SINGLES</td>\n",
       "      <td>11528</td>\n",
       "      <td>Claudio</td>\n",
       "      <td>Manhattan</td>\n",
       "      <td>Upper West Side</td>\n",
       "      <td>40.79826</td>\n",
       "      <td>-73.96113</td>\n",
       "      <td>Private room</td>\n",
       "      <td>85.0</td>\n",
       "      <td>2.0</td>\n",
       "      <td>113</td>\n",
       "      <td>7/5/2019</td>\n",
       "      <td>0.91</td>\n",
       "      <td>1</td>\n",
       "      <td>333</td>\n",
       "    </tr>\n",
       "    <tr>\n",
       "      <th>19</th>\n",
       "      <td>6090</td>\n",
       "      <td>West Village Nest - Superhost</td>\n",
       "      <td>11975</td>\n",
       "      <td>Alina</td>\n",
       "      <td>Manhattan</td>\n",
       "      <td>West Village</td>\n",
       "      <td>40.73530</td>\n",
       "      <td>-74.00525</td>\n",
       "      <td>Entire home/apt</td>\n",
       "      <td>120.0</td>\n",
       "      <td>90.0</td>\n",
       "      <td>27</td>\n",
       "      <td>10/31/2018</td>\n",
       "      <td>0.22</td>\n",
       "      <td>1</td>\n",
       "      <td>0</td>\n",
       "    </tr>\n",
       "  </tbody>\n",
       "</table>\n",
       "</div>"
      ],
      "text/plain": [
       "      id                                              name  host_id  \\\n",
       "0   2539                Clean & quiet apt home by the park     2787   \n",
       "1   2595                             Skylit Midtown Castle     2845   \n",
       "2   3647               THE VILLAGE OF HARLEM....NEW YORK !     4632   \n",
       "3   3831                   Cozy Entire Floor of Brownstone     4869   \n",
       "4   5022  Entire Apt: Spacious Studio/Loft by central park     7192   \n",
       "5   5099         Large Cozy 1 BR Apartment In Midtown East     7322   \n",
       "6   5121                                   BlissArtsSpace!     7356   \n",
       "7   5178                  Large Furnished Room Near B'way      8967   \n",
       "8   5203                Cozy Clean Guest Room - Family Apt     7490   \n",
       "9   5238                Cute & Cozy Lower East Side 1 bdrm     7549   \n",
       "10  5295                  Beautiful 1br on Upper West Side     7702   \n",
       "11  2595                             Skylit Midtown Castle     2845   \n",
       "12  5121                                   BlissArtsSpace!     7356   \n",
       "13  5295                  Beautiful 1br on Upper West Side     7702   \n",
       "14  6090                     West Village Nest - Superhost    11975   \n",
       "15  7097                 Perfect for Your Parents + Garden    17571   \n",
       "16  5441                   Central Manhattan/near Broadway     7989   \n",
       "17  5803    Lovely Room 1, Garden, Best Area, Legal rental     9744   \n",
       "18  6021  Wonderful Guest Bedroom in Manhattan for SINGLES    11528   \n",
       "19  6090                     West Village Nest - Superhost    11975   \n",
       "\n",
       "      host_name neighbourhood group       neighbourhood  latitude  longitude  \\\n",
       "0          John            Brooklyn          Kensington  40.64749  -73.97237   \n",
       "1      Jennifer           Manhattan             Midtown  40.75362  -73.98377   \n",
       "2     Elisabeth           Manhattan              Harlem  40.80902  -73.94190   \n",
       "3   LisaRoxanne            Brooklyn        Clinton Hill  40.68514  -73.95976   \n",
       "4         Laura           Manhattan         East Harlem  40.79851  -73.94399   \n",
       "5         Chris           Manhattan         Murray Hill  40.74767  -73.97500   \n",
       "6         Garon            Brooklyn  Bedford-Stuyvesant  40.68688  -73.95596   \n",
       "7      Shunichi           Manhattan      Hell's Kitchen  40.76489  -73.98493   \n",
       "8     MaryEllen           Manhattan     Upper West Side  40.80178  -73.96723   \n",
       "9           Ben           Manhattan           Chinatown  40.71344  -73.99037   \n",
       "10         Lena           Manhattan     Upper West Side  40.80316  -73.96545   \n",
       "11     Jennifer           Manhattan             Midtown  40.75362  -73.98377   \n",
       "12        Garon            Brooklyn  Bedford-Stuyvesant  40.68688  -73.95596   \n",
       "13         Lena           Manhattan     Upper West Side  40.80316  -73.96545   \n",
       "14        Alina           Manhattan        West Village  40.73530  -74.00525   \n",
       "15         Jane            Brooklyn         Fort Greene  40.69169  -73.97185   \n",
       "16         Kate           Manhattan      Hell's Kitchen  40.76076  -73.98867   \n",
       "17       Laurie            Brooklyn         South Slope  40.66829  -73.98779   \n",
       "18      Claudio           Manhattan     Upper West Side  40.79826  -73.96113   \n",
       "19        Alina           Manhattan        West Village  40.73530  -74.00525   \n",
       "\n",
       "          room type  price  minimum nights  number_of_reviews last review  \\\n",
       "0      Private room  149.0             1.0                  9  10/19/2018   \n",
       "1   Entire home/apt  225.0             1.0                 45   5/21/2019   \n",
       "2      Private room  150.0             3.0                  0         NaN   \n",
       "3   Entire home/apt   89.0             1.0                270    7/5/2019   \n",
       "4   Entire home/apt   80.0            10.0                  9  11/19/2018   \n",
       "5   Entire home/apt  200.0             3.0                 74   6/22/2019   \n",
       "6      Private room   60.0            45.0                 49   10/5/2017   \n",
       "7      Private room   79.0             2.0                430   6/24/2019   \n",
       "8      Private room   79.0             2.0                118   7/21/2017   \n",
       "9   Entire home/apt  150.0             1.0                160    6/9/2019   \n",
       "10  Entire home/apt  135.0             5.0                 53   6/22/2019   \n",
       "11  Entire home/apt  225.0             1.0                 45   5/21/2019   \n",
       "12     Private room   60.0            45.0                 49   10/5/2017   \n",
       "13  Entire home/apt  135.0             5.0                 53   6/22/2019   \n",
       "14  Entire home/apt  120.0            90.0                 27  10/31/2018   \n",
       "15  Entire home/apt  215.0             2.0                198   6/28/2019   \n",
       "16     Private room   85.0             2.0                188   6/23/2019   \n",
       "17     Private room   89.0             4.0                167   6/24/2019   \n",
       "18     Private room   85.0             2.0                113    7/5/2019   \n",
       "19  Entire home/apt  120.0            90.0                 27  10/31/2018   \n",
       "\n",
       "    reviews_per_month  calculated_host_listings_count  availability_365  \n",
       "0                0.21                               6               365  \n",
       "1                0.38                               2               355  \n",
       "2                 NaN                               1               365  \n",
       "3                4.64                               1               194  \n",
       "4                0.10                               1                 0  \n",
       "5                0.59                               1               129  \n",
       "6                0.40                               1                 0  \n",
       "7                3.47                               1               220  \n",
       "8                0.99                               1                 0  \n",
       "9                1.33                               4               188  \n",
       "10               0.43                               1                 6  \n",
       "11               0.38                               2               355  \n",
       "12               0.40                               1                 0  \n",
       "13               0.43                               1                 6  \n",
       "14               0.22                               1                 0  \n",
       "15               1.72                               1               321  \n",
       "16               1.50                               1                39  \n",
       "17               1.34                               3               314  \n",
       "18               0.91                               1               333  \n",
       "19               0.22                               1                 0  "
      ]
     },
     "execution_count": 8,
     "metadata": {},
     "output_type": "execute_result"
    }
   ],
   "source": [
    "DF.head(20)"
   ]
  },
  {
   "cell_type": "markdown",
   "id": "f7d41891-f7db-4536-9f05-af8e9672f6f4",
   "metadata": {},
   "source": [
    "Q.4) Find out the shape of dataset and what does it indicate?"
   ]
  },
  {
   "cell_type": "code",
   "execution_count": 11,
   "id": "e63bd64c-5830-45b7-863c-5dfd3c5477e5",
   "metadata": {},
   "outputs": [
    {
     "data": {
      "text/plain": [
       "(48900, 16)"
      ]
     },
     "execution_count": 11,
     "metadata": {},
     "output_type": "execute_result"
    }
   ],
   "source": [
    "DF.shape #This will tell dimensions of the data set i.e (rows , columns)"
   ]
  },
  {
   "cell_type": "markdown",
   "id": "b6b48480-6cc1-42c9-b7ac-02078b8c0a10",
   "metadata": {},
   "source": [
    "Q.5) List all column names and replace spaces in column labels with underscores “ _ “ for consistency and ease of use."
   ]
  },
  {
   "cell_type": "code",
   "execution_count": 12,
   "id": "ccc25b51-cf9e-42f6-b4d5-68222379f52d",
   "metadata": {},
   "outputs": [
    {
     "data": {
      "text/plain": [
       "Index(['id', 'name', 'host_id', 'host_name', 'neighbourhood group',\n",
       "       'neighbourhood', 'latitude', 'longitude', 'room type', 'price',\n",
       "       'minimum nights', 'number_of_reviews', 'last review',\n",
       "       'reviews_per_month', 'calculated_host_listings_count',\n",
       "       'availability_365'],\n",
       "      dtype='object')"
      ]
     },
     "execution_count": 12,
     "metadata": {},
     "output_type": "execute_result"
    }
   ],
   "source": [
    "DF.columns #Current column names"
   ]
  },
  {
   "cell_type": "code",
   "execution_count": 14,
   "id": "b1d44394-ad78-4b0b-a368-6f70ed2566f9",
   "metadata": {},
   "outputs": [
    {
     "data": {
      "text/plain": [
       "Index(['id', 'name', 'host_id', 'host_name', 'neighbourhood_group',\n",
       "       'neighbourhood', 'latitude', 'longitude', 'room_type', 'price',\n",
       "       'minimum_nights', 'number_of_reviews', 'last_review',\n",
       "       'reviews_per_month', 'calculated_host_listings_count',\n",
       "       'availability_365'],\n",
       "      dtype='object')"
      ]
     },
     "execution_count": 14,
     "metadata": {},
     "output_type": "execute_result"
    }
   ],
   "source": [
    "DF.columns = DF.columns.str.replace(' ', '_')\n",
    "\n",
    "DF.columns #Column names after changes"
   ]
  },
  {
   "cell_type": "markdown",
   "id": "fab1904a-e021-45a2-b53c-89316aba5168",
   "metadata": {},
   "source": [
    "Q.6) Check the data types of each attribute to understand what type of data each column holds."
   ]
  },
  {
   "cell_type": "code",
   "execution_count": 16,
   "id": "6176614e-517d-4d69-aaca-0cafcede0e0a",
   "metadata": {},
   "outputs": [
    {
     "data": {
      "text/plain": [
       "id                                  int64\n",
       "name                               object\n",
       "host_id                             int64\n",
       "host_name                          object\n",
       "neighbourhood_group                object\n",
       "neighbourhood                      object\n",
       "latitude                          float64\n",
       "longitude                         float64\n",
       "room_type                          object\n",
       "price                             float64\n",
       "minimum_nights                    float64\n",
       "number_of_reviews                   int64\n",
       "last_review                        object\n",
       "reviews_per_month                 float64\n",
       "calculated_host_listings_count      int64\n",
       "availability_365                    int64\n",
       "dtype: object"
      ]
     },
     "execution_count": 16,
     "metadata": {},
     "output_type": "execute_result"
    }
   ],
   "source": [
    "DF.dtypes"
   ]
  },
  {
   "cell_type": "markdown",
   "id": "e659eb3c-9611-4e3e-958d-af0f9fd6a7cd",
   "metadata": {},
   "source": [
    "Q.7) Convert the minimum_night and price columns from float to integer types after removing any non-numeric characters (e.g., currency symbols). Convert last_review to a datetime type."
   ]
  },
  {
   "cell_type": "code",
   "execution_count": 17,
   "id": "73f73bf1-b501-4688-8746-777e2a2bb838",
   "metadata": {},
   "outputs": [
    {
     "data": {
      "text/plain": [
       "id                                         int64\n",
       "name                                      object\n",
       "host_id                                    int64\n",
       "host_name                                 object\n",
       "neighbourhood_group                       object\n",
       "neighbourhood                             object\n",
       "latitude                                 float64\n",
       "longitude                                float64\n",
       "room_type                                 object\n",
       "price                                      int32\n",
       "minimum_nights                             int32\n",
       "number_of_reviews                          int64\n",
       "last_review                       datetime64[ns]\n",
       "reviews_per_month                        float64\n",
       "calculated_host_listings_count             int64\n",
       "availability_365                           int64\n",
       "dtype: object"
      ]
     },
     "execution_count": 17,
     "metadata": {},
     "output_type": "execute_result"
    }
   ],
   "source": [
    "DF[['minimum_nights', 'price']] = DF[['minimum_nights', 'price']].astype(int)\n",
    "\n",
    "DF['last_review'] = pd.to_datetime(DF['last_review'], format = '%m/%d/%Y')\n",
    "\n",
    "DF.dtypes"
   ]
  },
  {
   "cell_type": "markdown",
   "id": "36f15cb5-0adf-41d9-97ec-076a9775dd8e",
   "metadata": {},
   "source": [
    "Q.8) Share the information of dataset. What is the importance of it in EDA? "
   ]
  },
  {
   "cell_type": "code",
   "execution_count": 18,
   "id": "0fab95bf-8e34-490e-a234-137df08009c0",
   "metadata": {},
   "outputs": [
    {
     "name": "stdout",
     "output_type": "stream",
     "text": [
      "<class 'pandas.core.frame.DataFrame'>\n",
      "RangeIndex: 48900 entries, 0 to 48899\n",
      "Data columns (total 16 columns):\n",
      " #   Column                          Non-Null Count  Dtype         \n",
      "---  ------                          --------------  -----         \n",
      " 0   id                              48900 non-null  int64         \n",
      " 1   name                            48884 non-null  object        \n",
      " 2   host_id                         48900 non-null  int64         \n",
      " 3   host_name                       48879 non-null  object        \n",
      " 4   neighbourhood_group             48900 non-null  object        \n",
      " 5   neighbourhood                   48900 non-null  object        \n",
      " 6   latitude                        48900 non-null  float64       \n",
      " 7   longitude                       48900 non-null  float64       \n",
      " 8   room_type                       48900 non-null  object        \n",
      " 9   price                           48900 non-null  int32         \n",
      " 10  minimum_nights                  48900 non-null  int32         \n",
      " 11  number_of_reviews               48900 non-null  int64         \n",
      " 12  last_review                     38848 non-null  datetime64[ns]\n",
      " 13  reviews_per_month               38848 non-null  float64       \n",
      " 14  calculated_host_listings_count  48900 non-null  int64         \n",
      " 15  availability_365                48900 non-null  int64         \n",
      "dtypes: datetime64[ns](1), float64(3), int32(2), int64(5), object(5)\n",
      "memory usage: 5.6+ MB\n"
     ]
    }
   ],
   "source": [
    "DF.info()\n",
    "#We can see the information of the data set i.e DF using above function, we call see the fol info:\n",
    "    # Class of the data set\n",
    "    # Range of the index i,e No of rows starting from 0\n",
    "    # Total Number of columns with their data types\n",
    "    # Count of the non-null entries so that we can handle the missing values as per req\n",
    "#Thus it has huge importance in EDA"
   ]
  },
  {
   "cell_type": "markdown",
   "id": "2bf637d6-b7e6-42c2-8d1e-8d450ad51374",
   "metadata": {},
   "source": [
    "Q.9) Provide summary statistics for numerical columns. Highlight any unusual calculation you find (If any)"
   ]
  },
  {
   "cell_type": "code",
   "execution_count": 21,
   "id": "2126e640-8038-4da8-b26f-49a805eb8887",
   "metadata": {},
   "outputs": [
    {
     "data": {
      "text/html": [
       "<div>\n",
       "<style scoped>\n",
       "    .dataframe tbody tr th:only-of-type {\n",
       "        vertical-align: middle;\n",
       "    }\n",
       "\n",
       "    .dataframe tbody tr th {\n",
       "        vertical-align: top;\n",
       "    }\n",
       "\n",
       "    .dataframe thead th {\n",
       "        text-align: right;\n",
       "    }\n",
       "</style>\n",
       "<table border=\"1\" class=\"dataframe\">\n",
       "  <thead>\n",
       "    <tr style=\"text-align: right;\">\n",
       "      <th></th>\n",
       "      <th>id</th>\n",
       "      <th>host_id</th>\n",
       "      <th>latitude</th>\n",
       "      <th>longitude</th>\n",
       "      <th>price</th>\n",
       "      <th>minimum_nights</th>\n",
       "      <th>number_of_reviews</th>\n",
       "      <th>last_review</th>\n",
       "      <th>reviews_per_month</th>\n",
       "      <th>calculated_host_listings_count</th>\n",
       "      <th>availability_365</th>\n",
       "    </tr>\n",
       "  </thead>\n",
       "  <tbody>\n",
       "    <tr>\n",
       "      <th>count</th>\n",
       "      <td>4.890000e+04</td>\n",
       "      <td>4.890000e+04</td>\n",
       "      <td>48900.000000</td>\n",
       "      <td>48900.000000</td>\n",
       "      <td>48900.000000</td>\n",
       "      <td>48900.000000</td>\n",
       "      <td>48900.000000</td>\n",
       "      <td>38848</td>\n",
       "      <td>38848.000000</td>\n",
       "      <td>48900.000000</td>\n",
       "      <td>48900.000000</td>\n",
       "    </tr>\n",
       "    <tr>\n",
       "      <th>mean</th>\n",
       "      <td>1.901520e+07</td>\n",
       "      <td>6.761310e+07</td>\n",
       "      <td>40.728949</td>\n",
       "      <td>-73.952172</td>\n",
       "      <td>152.720511</td>\n",
       "      <td>7.032168</td>\n",
       "      <td>23.279693</td>\n",
       "      <td>2018-10-04 02:02:57.182866432</td>\n",
       "      <td>1.373126</td>\n",
       "      <td>7.143374</td>\n",
       "      <td>112.783742</td>\n",
       "    </tr>\n",
       "    <tr>\n",
       "      <th>min</th>\n",
       "      <td>2.539000e+03</td>\n",
       "      <td>2.438000e+03</td>\n",
       "      <td>40.499790</td>\n",
       "      <td>-74.244420</td>\n",
       "      <td>0.000000</td>\n",
       "      <td>1.000000</td>\n",
       "      <td>0.000000</td>\n",
       "      <td>2011-03-28 00:00:00</td>\n",
       "      <td>0.010000</td>\n",
       "      <td>1.000000</td>\n",
       "      <td>0.000000</td>\n",
       "    </tr>\n",
       "    <tr>\n",
       "      <th>25%</th>\n",
       "      <td>9.470353e+06</td>\n",
       "      <td>7.812758e+06</td>\n",
       "      <td>40.690100</td>\n",
       "      <td>-73.983072</td>\n",
       "      <td>69.000000</td>\n",
       "      <td>1.000000</td>\n",
       "      <td>1.000000</td>\n",
       "      <td>2018-07-08 00:00:00</td>\n",
       "      <td>0.190000</td>\n",
       "      <td>1.000000</td>\n",
       "      <td>0.000000</td>\n",
       "    </tr>\n",
       "    <tr>\n",
       "      <th>50%</th>\n",
       "      <td>1.967620e+07</td>\n",
       "      <td>3.079058e+07</td>\n",
       "      <td>40.723075</td>\n",
       "      <td>-73.955680</td>\n",
       "      <td>106.000000</td>\n",
       "      <td>3.000000</td>\n",
       "      <td>5.000000</td>\n",
       "      <td>2019-05-19 00:00:00</td>\n",
       "      <td>0.720000</td>\n",
       "      <td>1.000000</td>\n",
       "      <td>45.000000</td>\n",
       "    </tr>\n",
       "    <tr>\n",
       "      <th>75%</th>\n",
       "      <td>2.915173e+07</td>\n",
       "      <td>1.074344e+08</td>\n",
       "      <td>40.763112</td>\n",
       "      <td>-73.936280</td>\n",
       "      <td>175.000000</td>\n",
       "      <td>5.000000</td>\n",
       "      <td>24.000000</td>\n",
       "      <td>2019-06-23 00:00:00</td>\n",
       "      <td>2.020000</td>\n",
       "      <td>2.000000</td>\n",
       "      <td>227.000000</td>\n",
       "    </tr>\n",
       "    <tr>\n",
       "      <th>max</th>\n",
       "      <td>3.648724e+07</td>\n",
       "      <td>2.743213e+08</td>\n",
       "      <td>40.913060</td>\n",
       "      <td>-73.712990</td>\n",
       "      <td>10000.000000</td>\n",
       "      <td>1250.000000</td>\n",
       "      <td>629.000000</td>\n",
       "      <td>2019-07-08 00:00:00</td>\n",
       "      <td>58.500000</td>\n",
       "      <td>327.000000</td>\n",
       "      <td>365.000000</td>\n",
       "    </tr>\n",
       "    <tr>\n",
       "      <th>std</th>\n",
       "      <td>1.098423e+07</td>\n",
       "      <td>7.860992e+07</td>\n",
       "      <td>0.054529</td>\n",
       "      <td>0.046155</td>\n",
       "      <td>240.142704</td>\n",
       "      <td>20.513684</td>\n",
       "      <td>44.555777</td>\n",
       "      <td>NaN</td>\n",
       "      <td>1.680367</td>\n",
       "      <td>32.950889</td>\n",
       "      <td>131.626347</td>\n",
       "    </tr>\n",
       "  </tbody>\n",
       "</table>\n",
       "</div>"
      ],
      "text/plain": [
       "                 id       host_id      latitude     longitude         price  \\\n",
       "count  4.890000e+04  4.890000e+04  48900.000000  48900.000000  48900.000000   \n",
       "mean   1.901520e+07  6.761310e+07     40.728949    -73.952172    152.720511   \n",
       "min    2.539000e+03  2.438000e+03     40.499790    -74.244420      0.000000   \n",
       "25%    9.470353e+06  7.812758e+06     40.690100    -73.983072     69.000000   \n",
       "50%    1.967620e+07  3.079058e+07     40.723075    -73.955680    106.000000   \n",
       "75%    2.915173e+07  1.074344e+08     40.763112    -73.936280    175.000000   \n",
       "max    3.648724e+07  2.743213e+08     40.913060    -73.712990  10000.000000   \n",
       "std    1.098423e+07  7.860992e+07      0.054529      0.046155    240.142704   \n",
       "\n",
       "       minimum_nights  number_of_reviews                    last_review  \\\n",
       "count    48900.000000       48900.000000                          38848   \n",
       "mean         7.032168          23.279693  2018-10-04 02:02:57.182866432   \n",
       "min          1.000000           0.000000            2011-03-28 00:00:00   \n",
       "25%          1.000000           1.000000            2018-07-08 00:00:00   \n",
       "50%          3.000000           5.000000            2019-05-19 00:00:00   \n",
       "75%          5.000000          24.000000            2019-06-23 00:00:00   \n",
       "max       1250.000000         629.000000            2019-07-08 00:00:00   \n",
       "std         20.513684          44.555777                            NaN   \n",
       "\n",
       "       reviews_per_month  calculated_host_listings_count  availability_365  \n",
       "count       38848.000000                    48900.000000      48900.000000  \n",
       "mean            1.373126                        7.143374        112.783742  \n",
       "min             0.010000                        1.000000          0.000000  \n",
       "25%             0.190000                        1.000000          0.000000  \n",
       "50%             0.720000                        1.000000         45.000000  \n",
       "75%             2.020000                        2.000000        227.000000  \n",
       "max            58.500000                      327.000000        365.000000  \n",
       "std             1.680367                       32.950889        131.626347  "
      ]
     },
     "execution_count": 21,
     "metadata": {},
     "output_type": "execute_result"
    }
   ],
   "source": [
    "DF.describe()\n",
    "\n",
    "#Fol are some unusual calculations\n",
    "    #There are some missing entries in last_review and reviews_per_month columns\n",
    "    #The max value of minimum_nights column is very high (1250). This indicates that there might be some outliers making it biased\n",
    "    #The min vale of availability_365 column is 0. This means property wasn't avail for the whole year"
   ]
  },
  {
   "cell_type": "markdown",
   "id": "62fdcca1-6101-497c-bfd0-3d5994d9f1b7",
   "metadata": {},
   "source": [
    "Q.10) Provide summary statistics for categorical columnsHighlight any unusual calculation you find (If any)"
   ]
  },
  {
   "cell_type": "code",
   "execution_count": 23,
   "id": "f1bed38d-b4de-4890-afd9-90eecaa405b8",
   "metadata": {},
   "outputs": [
    {
     "data": {
      "text/html": [
       "<div>\n",
       "<style scoped>\n",
       "    .dataframe tbody tr th:only-of-type {\n",
       "        vertical-align: middle;\n",
       "    }\n",
       "\n",
       "    .dataframe tbody tr th {\n",
       "        vertical-align: top;\n",
       "    }\n",
       "\n",
       "    .dataframe thead th {\n",
       "        text-align: right;\n",
       "    }\n",
       "</style>\n",
       "<table border=\"1\" class=\"dataframe\">\n",
       "  <thead>\n",
       "    <tr style=\"text-align: right;\">\n",
       "      <th></th>\n",
       "      <th>name</th>\n",
       "      <th>host_name</th>\n",
       "      <th>neighbourhood_group</th>\n",
       "      <th>neighbourhood</th>\n",
       "      <th>room_type</th>\n",
       "    </tr>\n",
       "  </thead>\n",
       "  <tbody>\n",
       "    <tr>\n",
       "      <th>count</th>\n",
       "      <td>48884</td>\n",
       "      <td>48879</td>\n",
       "      <td>48900</td>\n",
       "      <td>48900</td>\n",
       "      <td>48900</td>\n",
       "    </tr>\n",
       "    <tr>\n",
       "      <th>unique</th>\n",
       "      <td>47896</td>\n",
       "      <td>11452</td>\n",
       "      <td>6</td>\n",
       "      <td>221</td>\n",
       "      <td>3</td>\n",
       "    </tr>\n",
       "    <tr>\n",
       "      <th>top</th>\n",
       "      <td>Hillside Hotel</td>\n",
       "      <td>Michael</td>\n",
       "      <td>Manhattan</td>\n",
       "      <td>Williamsburg</td>\n",
       "      <td>Entire home/apt</td>\n",
       "    </tr>\n",
       "    <tr>\n",
       "      <th>freq</th>\n",
       "      <td>18</td>\n",
       "      <td>417</td>\n",
       "      <td>21664</td>\n",
       "      <td>3920</td>\n",
       "      <td>25413</td>\n",
       "    </tr>\n",
       "  </tbody>\n",
       "</table>\n",
       "</div>"
      ],
      "text/plain": [
       "                  name host_name neighbourhood_group neighbourhood  \\\n",
       "count            48884     48879               48900         48900   \n",
       "unique           47896     11452                   6           221   \n",
       "top     Hillside Hotel   Michael           Manhattan  Williamsburg   \n",
       "freq                18       417               21664          3920   \n",
       "\n",
       "              room_type  \n",
       "count             48900  \n",
       "unique                3  \n",
       "top     Entire home/apt  \n",
       "freq              25413  "
      ]
     },
     "execution_count": 23,
     "metadata": {},
     "output_type": "execute_result"
    }
   ],
   "source": [
    "DF.describe(include = 'object')"
   ]
  },
  {
   "cell_type": "markdown",
   "id": "a7c9f141-17da-42ba-ae36-e7290906871e",
   "metadata": {},
   "source": [
    "Q.11) Identify duplicate rows in the dataset and remove them to ensure data integrity."
   ]
  },
  {
   "cell_type": "code",
   "execution_count": 25,
   "id": "6457403a-b7da-475f-9987-72e1b9269c83",
   "metadata": {},
   "outputs": [
    {
     "name": "stdout",
     "output_type": "stream",
     "text": [
      "Number of duplicate rows are: 5\n"
     ]
    }
   ],
   "source": [
    "#Boolean result will be stored in a variable (stores true if the row is dupicate and false if the row is unique)\n",
    "\n",
    "dup = DF.duplicated()\n",
    "total_dup = dup.sum()\n",
    "print(\"Number of duplicate rows are:\", total_dup)"
   ]
  },
  {
   "cell_type": "code",
   "execution_count": 28,
   "id": "9876a9f4-73e4-4985-a234-3e360a9b2a42",
   "metadata": {},
   "outputs": [
    {
     "data": {
      "text/plain": [
       "(48895, 16)"
      ]
     },
     "execution_count": 28,
     "metadata": {},
     "output_type": "execute_result"
    }
   ],
   "source": [
    "#Removing duplicates\n",
    "\n",
    "DF = DF.drop_duplicates()\n",
    "DF.shape #Total no of rows were 48,900 and now it will give 48,895 after removing 5 duplicate rows"
   ]
  },
  {
   "cell_type": "markdown",
   "id": "eaaab59b-6b5f-4531-8681-2e2667992a57",
   "metadata": {},
   "source": [
    "Q.12) Check each column for null or empty values to understand the extent of missing data."
   ]
  },
  {
   "cell_type": "code",
   "execution_count": 31,
   "id": "ac750033-a75b-45ea-9e36-f7db22da2e2c",
   "metadata": {},
   "outputs": [
    {
     "data": {
      "text/plain": [
       "id                                    0\n",
       "name                                 16\n",
       "host_id                               0\n",
       "host_name                            21\n",
       "neighbourhood_group                   0\n",
       "neighbourhood                         0\n",
       "latitude                              0\n",
       "longitude                             0\n",
       "room_type                             0\n",
       "price                                 0\n",
       "minimum_nights                        0\n",
       "number_of_reviews                     0\n",
       "last_review                       10052\n",
       "reviews_per_month                 10052\n",
       "calculated_host_listings_count        0\n",
       "availability_365                      0\n",
       "dtype: int64"
      ]
     },
     "execution_count": 31,
     "metadata": {},
     "output_type": "execute_result"
    }
   ],
   "source": [
    "DF.isnull().sum()\n",
    "\n",
    "#name and host_name have few missing values but the last_reviews and reviews_per_month have a lot of missing/ null values"
   ]
  },
  {
   "cell_type": "markdown",
   "id": "1c0d761d-feeb-4652-96c0-20108e2a572a",
   "metadata": {},
   "source": [
    "Q.13) Replace null values in columns with suitable replacements"
   ]
  },
  {
   "cell_type": "code",
   "execution_count": 39,
   "id": "f79c9c14-ffc7-4b06-a020-fddc78ae1a69",
   "metadata": {},
   "outputs": [
    {
     "data": {
      "text/html": [
       "<div>\n",
       "<style scoped>\n",
       "    .dataframe tbody tr th:only-of-type {\n",
       "        vertical-align: middle;\n",
       "    }\n",
       "\n",
       "    .dataframe tbody tr th {\n",
       "        vertical-align: top;\n",
       "    }\n",
       "\n",
       "    .dataframe thead th {\n",
       "        text-align: right;\n",
       "    }\n",
       "</style>\n",
       "<table border=\"1\" class=\"dataframe\">\n",
       "  <thead>\n",
       "    <tr style=\"text-align: right;\">\n",
       "      <th></th>\n",
       "      <th>last_review</th>\n",
       "      <th>reviews_per_month</th>\n",
       "    </tr>\n",
       "  </thead>\n",
       "  <tbody>\n",
       "  </tbody>\n",
       "</table>\n",
       "</div>"
      ],
      "text/plain": [
       "Empty DataFrame\n",
       "Columns: [last_review, reviews_per_month]\n",
       "Index: []"
      ]
     },
     "execution_count": 39,
     "metadata": {},
     "output_type": "execute_result"
    }
   ],
   "source": [
    "# We can fill the name and host_name columns with constant like 'NA'\n",
    "\n",
    "DF['name'].fillna('NA', inplace = True)\n",
    "DF['host_name'].fillna('NA', inplace = True)\n",
    "\n",
    "#First of all i will check thet do the last_reviews and reviews_per_month columns have nulls in the same rows\n",
    "DF.loc[DF['last_review'].isnull() | DF['reviews_per_month'].isnull(), ['last_review', 'reviews_per_month']]\n",
    "#Above line of code showed that both columns have nulls in the same rows\n",
    "\n",
    "#I can not fill these nulls with any text because dtype will be incompatible as commented below\n",
    "\n",
    "#DF['last_review'].fillna('Not Given', inplace = True)\n",
    "#DF['reviews_per_month'].fillna('NA', inplace = True)\n",
    "\n",
    "#So i will not impute or replace these two columns"
   ]
  },
  {
   "cell_type": "markdown",
   "id": "085ca44c-4f79-46cd-b3e9-e6a60690164a",
   "metadata": {},
   "source": [
    "Q.14) Drop columns (last reviews, names and id) "
   ]
  },
  {
   "cell_type": "code",
   "execution_count": 41,
   "id": "a407efc5-20d2-4003-a5c1-e55bbd06e7e9",
   "metadata": {},
   "outputs": [
    {
     "data": {
      "text/plain": [
       "Index(['host_id', 'host_name', 'neighbourhood_group', 'neighbourhood',\n",
       "       'latitude', 'longitude', 'room_type', 'price', 'minimum_nights',\n",
       "       'number_of_reviews', 'reviews_per_month',\n",
       "       'calculated_host_listings_count', 'availability_365'],\n",
       "      dtype='object')"
      ]
     },
     "execution_count": 41,
     "metadata": {},
     "output_type": "execute_result"
    }
   ],
   "source": [
    "DF.drop(columns = ['last_review', 'name', 'id'], inplace = True)\n",
    "DF.columns"
   ]
  },
  {
   "cell_type": "markdown",
   "id": "7876d2a1-42aa-41f6-8255-b122bcd77fe5",
   "metadata": {},
   "source": [
    "Q.15) Find number of unique values for the columns ‘room type’, 'neighbourhood_group' and  'neighbourhood'. Highlight the unusual answer if any and tackle with it."
   ]
  },
  {
   "cell_type": "code",
   "execution_count": 43,
   "id": "1eb0bb0e-678e-4a1c-beb3-30b00a83ab02",
   "metadata": {},
   "outputs": [
    {
     "name": "stdout",
     "output_type": "stream",
     "text": [
      "No of unique values in room_type column:  3\n",
      "No of unique values in neighbourhood_group column:  6\n",
      "No of unique values in neighbourhood column:  221\n"
     ]
    }
   ],
   "source": [
    "print(\"No of unique values in room_type column: \", DF['room_type'].nunique())\n",
    "print(\"No of unique values in neighbourhood_group column: \", DF['neighbourhood_group'].nunique())\n",
    "print(\"No of unique values in neighbourhood column: \", DF['neighbourhood'].nunique())"
   ]
  },
  {
   "cell_type": "markdown",
   "id": "268d8b6a-1a95-43a3-8a27-721d57de3ea7",
   "metadata": {},
   "source": [
    "Q.16) What are the top 10 host IDs with the highest number of bookings?"
   ]
  },
  {
   "cell_type": "code",
   "execution_count": 44,
   "id": "3d6a42d2-3357-472c-ba56-04f3e33d0743",
   "metadata": {},
   "outputs": [
    {
     "data": {
      "text/plain": [
       "host_id\n",
       "219517861    327\n",
       "107434423    232\n",
       "30283594     121\n",
       "137358866    103\n",
       "16098958      96\n",
       "12243051      96\n",
       "61391963      91\n",
       "22541573      87\n",
       "200380610     65\n",
       "7503643       52\n",
       "Name: count, dtype: int64"
      ]
     },
     "execution_count": 44,
     "metadata": {},
     "output_type": "execute_result"
    }
   ],
   "source": [
    "DF['host_id'].value_counts().head(10)\n",
    "#Count the host_id and display the top 10 using head(10)"
   ]
  },
  {
   "cell_type": "markdown",
   "id": "ebec7463-1c48-4c4c-9107-e4928d49964e",
   "metadata": {},
   "source": [
    "Q.17) Identify and list the top 10 host names based on the number of bookings and create a bar chart to visualize this data."
   ]
  },
  {
   "cell_type": "code",
   "execution_count": 45,
   "id": "6e781662-b5ec-4530-b8b4-2cafb76c8e36",
   "metadata": {},
   "outputs": [
    {
     "data": {
      "image/png": "[encoded data removed]",
      "text/plain": [
       "<Figure size 640x480 with 1 Axes>"
      ]
     },
     "metadata": {},
     "output_type": "display_data"
    }
   ],
   "source": [
    "Top10_Hosts = DF['host_name'].value_counts().head(10)\n",
    "\n",
    "sns.barplot(x = Top10_Hosts.index, y = Top10_Hosts.values, palette = 'muted')\n",
    "plt.xticks(rotation = 90, ha = 'center')\n",
    "plt.title(\"Top 10 Hosts by Bookings\")\n",
    "plt.xlabel(\"Host Names\")\n",
    "plt.ylabel(\"Bookings\")\n",
    "plt.show()"
   ]
  },
  {
   "cell_type": "markdown",
   "id": "a66a8c4d-eee2-4412-bdfc-ef1e0f6c5294",
   "metadata": {},
   "source": [
    "Q.18) What types of rooms does the host with the highest number of bookings offer, and what is the price range for these rooms?"
   ]
  },
  {
   "cell_type": "code",
   "execution_count": 46,
   "id": "57828a5a-37b4-468f-82d1-793201acf43b",
   "metadata": {},
   "outputs": [
    {
     "name": "stdout",
     "output_type": "stream",
     "text": [
      "Types of rooms offered by Michael are: ['Private room' 'Entire home/apt' 'Shared room']\n",
      "\n",
      "The minimum price range of rooms offered by Michael are: 25\n",
      "The average price range of rooms offered by Michael are: 160\n",
      "The maximum price range of rooms offered by Michael are: 1700\n"
     ]
    }
   ],
   "source": [
    "top_hosts_by_booking = DF.loc[DF['host_name'] == Top10_Hosts.index[0], ['host_name','room_type', 'price']]\n",
    "\n",
    "print(f\"Types of rooms offered by {Top10_Hosts.index[0]} are: {top_hosts_by_booking['room_type'].unique()}\\n\")\n",
    "\n",
    "print(f\"The minimum price range of rooms offered by {Top10_Hosts.index[0]} are: {round(top_hosts_by_booking['price'].min())}\")\n",
    "print(f\"The average price range of rooms offered by {Top10_Hosts.index[0]} are: {round(top_hosts_by_booking['price'].mean())}\")\n",
    "print(f\"The maximum price range of rooms offered by {Top10_Hosts.index[0]} are: {round(top_hosts_by_booking['price'].max())}\")"
   ]
  },
  {
   "cell_type": "markdown",
   "id": "346ec89f-e223-4d41-9d86-578b807df34d",
   "metadata": {},
   "source": [
    "Q.20) Identify the neighbourhood group with the highest number of bookings and visualize the data using a pie chart."
   ]
  },
  {
   "cell_type": "code",
   "execution_count": 48,
   "id": "93ea2b93-db2c-4d9f-87b9-910bb0595ab6",
   "metadata": {},
   "outputs": [
    {
     "data": {
      "image/png": "[encoded data removed]",
      "text/plain": [
       "<Figure size 800x600 with 1 Axes>"
      ]
     },
     "metadata": {},
     "output_type": "display_data"
    }
   ],
   "source": [
    "nh_group_data = DF.groupby('neighbourhood_group')['host_id'].count().sort_values(ascending = False)\n",
    "\n",
    "plt.figure(figsize = (8,6))\n",
    "plt.pie(nh_group_data, labels = None, autopct = '%1.1f%%')\n",
    "plt.title('Neighbourhood Data by Highest Number of Bookings')\n",
    "plt.legend(labels = nh_group_data.index, loc = \"best\", bbox_to_anchor = (1, 0.5, 0.5, 0.5))\n",
    "plt.show()"
   ]
  },
  {
   "cell_type": "markdown",
   "id": "712a08a4-aef7-49b7-a913-220013b3562d",
   "metadata": {},
   "source": [
    "Q.21) Calculate the average price of all listings in the dataset."
   ]
  },
  {
   "cell_type": "code",
   "execution_count": 50,
   "id": "95ff81b2-d540-4131-a4fa-7b8ccf7fdc03",
   "metadata": {},
   "outputs": [
    {
     "name": "stdout",
     "output_type": "stream",
     "text": [
      "Average price of all listings is 152.7206871868289\n"
     ]
    }
   ],
   "source": [
    "print('Average price of all listings is', DF['price'].mean())"
   ]
  },
  {
   "cell_type": "markdown",
   "id": "d39e2012-a9dc-428f-a297-c8b973bed25b",
   "metadata": {},
   "source": [
    "Q.22 ) W Determine the minimum and maximum prices of the listings in the dataset."
   ]
  },
  {
   "cell_type": "code",
   "execution_count": 51,
   "id": "14fcae41-330f-43e4-b3ef-437884dfe239",
   "metadata": {},
   "outputs": [
    {
     "name": "stdout",
     "output_type": "stream",
     "text": [
      "Min price of listings is 0\n",
      "Maximum price of listings is 10000\n"
     ]
    }
   ],
   "source": [
    "print('Min price of listings is', DF['price'].min())\n",
    "\n",
    "print('Maximum price of listings is', DF['price'].max())"
   ]
  },
  {
   "cell_type": "markdown",
   "id": "073aaeab-3148-4b6e-b28c-540542011130",
   "metadata": {},
   "source": [
    "Q.23) Compare the average prices of different room types to see how they vary."
   ]
  },
  {
   "cell_type": "code",
   "execution_count": 52,
   "id": "4cd6a05f-f5be-45b1-9020-4883ace25bd1",
   "metadata": {},
   "outputs": [
    {
     "data": {
      "text/plain": [
       "room_type\n",
       "Entire home/apt    211.794246\n",
       "Private room        89.780973\n",
       "Shared room         70.127586\n",
       "Name: price, dtype: float64"
      ]
     },
     "execution_count": 52,
     "metadata": {},
     "output_type": "execute_result"
    }
   ],
   "source": [
    "DF.groupby('room_type')['price'].mean()"
   ]
  },
  {
   "cell_type": "markdown",
   "id": "d6e31f75-0d94-470a-bdf6-0832a96784a6",
   "metadata": {},
   "source": [
    "Q.24) Identify the neighbourhood group with the highest number of reviews and highlight any interesting findings."
   ]
  },
  {
   "cell_type": "code",
   "execution_count": 53,
   "id": "4d4cb6b9-f8aa-4ae1-97e1-7469df6a2bb3",
   "metadata": {},
   "outputs": [
    {
     "data": {
      "text/plain": [
       "neighbourhood_group\n",
       "Broklyn             172\n",
       "Bronx             28371\n",
       "Brooklyn         486402\n",
       "Manhattan        454569\n",
       "Queens           156950\n",
       "Staten Island     11541\n",
       "Name: number_of_reviews, dtype: int64"
      ]
     },
     "execution_count": 53,
     "metadata": {},
     "output_type": "execute_result"
    }
   ],
   "source": [
    "DF.groupby('neighbourhood_group')['number_of_reviews'].sum()"
   ]
  }
 ],
 "metadata": {
  "kernelspec": {
   "display_name": "Python 3 (ipykernel)",
   "language": "python",
   "name": "python3"
  },
  "language_info": {
   "codemirror_mode": {
    "name": "ipython",
    "version": 3
   },
   "file_extension": ".py",
   "mimetype": "text/x-python",
   "name": "python",
   "nbconvert_exporter": "python",
   "pygments_lexer": "ipython3",
   "version": "3.11.7"
  }
 },
 "nbformat": 4,
 "nbformat_minor": 5
}
